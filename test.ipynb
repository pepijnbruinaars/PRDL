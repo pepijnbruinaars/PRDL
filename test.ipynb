{
 "cells": [
  {
   "cell_type": "markdown",
   "metadata": {},
   "source": [
    "### Imports"
   ]
  },
  {
   "cell_type": "code",
   "execution_count": 3,
   "metadata": {},
   "outputs": [],
   "source": [
    "import numpy as np\n",
    "import pandas as pd\n",
    "import matplotlib.pyplot as plt"
   ]
  },
  {
   "cell_type": "markdown",
   "metadata": {},
   "source": [
    "### Loading data"
   ]
  },
  {
   "cell_type": "code",
   "execution_count": 4,
   "metadata": {},
   "outputs": [],
   "source": [
    "mnist = pd.read_csv(\"data/mnist.csv\").values\n",
    "labels = mnist[:, 0]\n",
    "digits = mnist[:, 1:]\n",
    "train_labels = mnist[:5000, 0]\n",
    "train_digits = mnist[:5000, 1:]\n",
    "test_labels = mnist[5000:, 0]\n",
    "test_digits = mnist[5000:, 1:]"
   ]
  },
  {
   "cell_type": "markdown",
   "metadata": {},
   "source": [
    "### Showing random digit"
   ]
  },
  {
   "cell_type": "code",
   "execution_count": 5,
   "metadata": {},
   "outputs": [
    {
     "data": {
      "image/png": "[encoded data removed]",
      "text/plain": [
       "<Figure size 640x480 with 1 Axes>"
      ]
     },
     "metadata": {},
     "output_type": "display_data"
    }
   ],
   "source": [
    "img_size = 28\n",
    "# Show 100 digits of the data\n",
    "\n",
    "plt.imshow(digits[np.random.randint(len(digits))].reshape(img_size, img_size))\n",
    "plt.show()"
   ]
  },
  {
   "cell_type": "markdown",
   "metadata": {},
   "source": [
    "### Summary of data"
   ]
  },
  {
   "cell_type": "code",
   "execution_count": 6,
   "metadata": {},
   "outputs": [],
   "source": [
    "# Summarize the data\n"
   ]
  },
  {
   "cell_type": "markdown",
   "metadata": {},
   "source": [
    "### Ink Feature"
   ]
  },
  {
   "cell_type": "code",
   "execution_count": 7,
   "metadata": {},
   "outputs": [
    {
     "name": "stdout",
     "output_type": "stream",
     "text": [
      "[34632 15188 29871 28320 24232 25835 27734 22931 30184 24553]\n",
      "[8461 4409 7653 7574 6374 7526 7530 6168 7777 6465]\n"
     ]
    }
   ],
   "source": [
    "# create ink feature\n",
    "import numpy as np\n",
    "ink = np.array([sum(row) for row in digits])\n",
    "# compute mean for each digit class\n",
    "ink_mean = np.array([np.mean(ink[labels == i]) for i in range(10)]).astype(int)\n",
    "# compute standard deviation for each digit class\n",
    "ink_std = np.array([np.std(ink[labels == i]) for i in range(10)]).astype(int)\n",
    "\n",
    "print(ink_mean)\n",
    "print(ink_std)"
   ]
  },
  {
   "cell_type": "markdown",
   "metadata": {},
   "source": [
    "### Logit classifier"
   ]
  },
  {
   "cell_type": "code",
   "execution_count": 8,
   "metadata": {},
   "outputs": [
    {
     "name": "stdout",
     "output_type": "stream",
     "text": [
      "0.22680952380952382\n"
     ]
    },
    {
     "data": {
      "image/png": "[encoded data removed]",
      "text/plain": [
       "<Figure size 640x480 with 1 Axes>"
      ]
     },
     "metadata": {},
     "output_type": "display_data"
    }
   ],
   "source": [
    "# fit logit model using ink feature\n",
    "from sklearn.linear_model import LogisticRegression\n",
    "from sklearn.preprocessing import scale\n",
    "logit = LogisticRegression()\n",
    "ink = scale(ink).reshape(-1, 1)\n",
    "logit.fit(ink, labels)\n",
    "print(logit.score(ink, labels))\n",
    "results = logit.predict(ink)\n",
    "\n",
    "confusion_matrix = np.zeros((10, 10))\n",
    "for i in range(10):\n",
    "    confusion_matrix[i] = np.bincount(results[labels == i], minlength=10)\n",
    "confusion_matrix = confusion_matrix.astype(int)\n",
    "plt.imshow(confusion_matrix)\n",
    "plt.show()"
   ]
  },
  {
   "cell_type": "markdown",
   "metadata": {},
   "source": [
    "### Logit with other feature"
   ]
  },
  {
   "cell_type": "code",
   "execution_count": 9,
   "metadata": {},
   "outputs": [
    {
     "name": "stdout",
     "output_type": "stream",
     "text": [
      "0.2687857142857143\n",
      "Covariance between ink and new_feature:  0.29735579897581815\n",
      "[[3783  218    0    0    0    0    0    0  131    0]\n",
      " [   8 4675    0    0    0    0    0    0    1    0]\n",
      " [1303 2797    0    0    0    0    0    0   77    0]\n",
      " [ 333 3990    0    0    0    0    0    0   28    0]\n",
      " [ 360 3686    0    0    0    0    0    0   26    0]\n",
      " [ 316 3465    0    0    0    0    0    0   14    0]\n",
      " [2861 1029    0    0    0    0    0    0  247    0]\n",
      " [  33 4368    0    0    0    0    0    0    0    0]\n",
      " [1063  169    0    0    0    0    0    0 2831    0]\n",
      " [3490  566    0    0    0    0    0    0  132    0]]\n"
     ]
    },
    {
     "data": {
      "image/png": "[encoded data removed]",
      "text/plain": [
       "<Figure size 640x480 with 1 Axes>"
      ]
     },
     "metadata": {},
     "output_type": "display_data"
    }
   ],
   "source": [
    "# apply sobel filter to the data\n",
    "from scipy.ndimage import sobel\n",
    "from sklearn.decomposition import PCA\n",
    "import cv2\n",
    "\n",
    "def compute_sobel_variance(image):\n",
    "    # Reshape the image to 2D\n",
    "    image = image.reshape((28, 28))\n",
    "\n",
    "    # Compute the gradient using Sobel operators\n",
    "    gradient_magnitude = np.abs(sobel(image))\n",
    "\n",
    "    # Compute the variance of the gradient magnitudes\n",
    "    sobel_variance = np.var(gradient_magnitude)\n",
    "\n",
    "    return sobel_variance\n",
    "\n",
    "def compute_diagonal_symmetry(image):\n",
    "    # Reshape the image to 2D\n",
    "    image = image.reshape((28, 28))\n",
    "\n",
    "    # Compute the gradient using Sobel operators\n",
    "    mirror_image = image.T\n",
    "\n",
    "    # Compute the variance of the gradient magnitudes\n",
    "    symmetry = np.dot(image.flatten(), mirror_image.flatten())\n",
    "\n",
    "    return symmetry\n",
    "\n",
    "def compute_texture_complexity(image):\n",
    "    # Reshape the image to 2D\n",
    "    image = image.reshape((28, 28))\n",
    "\n",
    "    complexity = 0\n",
    "    for i in range(28):\n",
    "        for j in range(28):\n",
    "            if i < 27:\n",
    "                complexity += np.abs(image[i, j] - image[i + 1, j])\n",
    "            if j < 27:\n",
    "                complexity += np.abs(image[i, j] - image[i, j + 1])\n",
    "\n",
    "    return complexity\n",
    "\n",
    "def compute_symmetry(image):\n",
    "    # Reshape the image to 2D\n",
    "    image = image.reshape((28, 28))\n",
    "\n",
    "    # Compute the gradient using Sobel operators\n",
    "    mirror_image = np.fliplr(image)\n",
    "\n",
    "    # Compute the variance of the gradient magnitudes\n",
    "    symmetry = np.dot(image.flatten(), mirror_image.flatten())\n",
    "\n",
    "    return symmetry\n",
    "\n",
    "def compute_vertical_symmetry(image):\n",
    "    # Reshape the image to 2D\n",
    "    image = image.reshape((28, 28))\n",
    "\n",
    "    # Compute the gradient using Sobel operators\n",
    "    mirror_image = np.flipud(image)\n",
    "\n",
    "    # Compute the variance of the gradient magnitudes\n",
    "    symmetry = np.dot(image.flatten(), mirror_image.flatten())\n",
    "\n",
    "    return symmetry\n",
    "\n",
    "\n",
    "def calculate_aspect_ratio(image_array):\n",
    "    # Find the bounding box of the digit\n",
    "    non_zero_indices = np.nonzero(image_array.reshape(img_size, img_size))\n",
    "    min_y, min_x = np.min(non_zero_indices, axis=1)\n",
    "    max_y, max_x = np.max(non_zero_indices, axis=1)\n",
    "\n",
    "    # Calculate width and height of the bounding box\n",
    "    width = max_x - min_x\n",
    "    height = max_y - min_y\n",
    "\n",
    "    # Calculate aspect ratio\n",
    "    aspect_ratio = width / height\n",
    "\n",
    "    return aspect_ratio\n",
    "\n",
    "def calculate_bounding_box_area(image_array):\n",
    "    # Find the bounding box of the digit\n",
    "    non_zero_indices = np.nonzero(image_array.reshape(img_size, img_size))\n",
    "    min_y, min_x = np.min(non_zero_indices, axis=1)\n",
    "    max_y, max_x = np.max(non_zero_indices, axis=1)\n",
    "\n",
    "    # Calculate width and height of the bounding box\n",
    "    width = max_x - min_x\n",
    "    height = max_y - min_y\n",
    "\n",
    "    # Calculate bounding box area\n",
    "    bounding_box_area = width * height\n",
    "\n",
    "    return bounding_box_area\n",
    "\n",
    "def calculate_bounding_box_width(image_array):\n",
    "    # Find the bounding box of the digit\n",
    "    non_zero_indices = np.nonzero(image_array.reshape(img_size, img_size))\n",
    "    min_y, min_x = np.min(non_zero_indices, axis=1)\n",
    "    max_y, max_x = np.max(non_zero_indices, axis=1)\n",
    "\n",
    "    # Calculate width and height of the bounding box\n",
    "    width = max_x - min_x\n",
    "\n",
    "    return width\n",
    "\n",
    "def calculate_bounding_box_height(image_array):\n",
    "    # Find the bounding box of the digit\n",
    "    non_zero_indices = np.nonzero(image_array.reshape(img_size, img_size))\n",
    "    min_y, min_x = np.min(non_zero_indices, axis=1)\n",
    "    max_y, max_x = np.max(non_zero_indices, axis=1)\n",
    "\n",
    "    # Calculate width and height of the bounding box\n",
    "    height = max_y - min_y\n",
    "\n",
    "    return height\n",
    "\n",
    "def calculate_weighted_bounding_box_area(image_array):\n",
    "    # Find the bounding box of the digit\n",
    "    non_zero_indices = np.nonzero(image_array.reshape(img_size, img_size))\n",
    "    min_y, min_x = np.min(non_zero_indices, axis=1)\n",
    "    max_y, max_x = np.max(non_zero_indices, axis=1)\n",
    "\n",
    "    # Calculate width and height of the bounding box\n",
    "    width = max_x - min_x\n",
    "    height = max_y - min_y\n",
    "\n",
    "    # Calculate bounding box area\n",
    "    bounding_box_area = width * height\n",
    "\n",
    "    # Calculate weighted bounding box area\n",
    "    weighted_bounding_box_area = bounding_box_area**2 / (width**3 + height)\n",
    "\n",
    "    return weighted_bounding_box_area\n",
    "\n",
    "def compute_normalized_central_mass_x(image):\n",
    "    # Reshape the image to 2D\n",
    "    image = image.reshape((28, 28))\n",
    "\n",
    "    # Compute the x and y coordinates of each pixel\n",
    "    y, x = np.indices((28, 28))\n",
    "\n",
    "    # Compute the total mass\n",
    "    total_mass = image.sum()\n",
    "\n",
    "    # Compute the center of mass\n",
    "    center_of_mass_x = (x * image).sum() / total_mass\n",
    "\n",
    "    # Normalize the center of mass\n",
    "    normalized_center_of_mass_x = center_of_mass_x / 28\n",
    "\n",
    "    return normalized_center_of_mass_x\n",
    "\n",
    "def compute_normalized_central_mass_y(image):\n",
    "    # Reshape the image to 2D\n",
    "    image = image.reshape((28, 28))\n",
    "\n",
    "    # Compute the x and y coordinates of each pixel\n",
    "    y, x = np.indices((28, 28))\n",
    "\n",
    "    # Compute the total mass\n",
    "    total_mass = image.sum()\n",
    "\n",
    "    # Compute the center of mass\n",
    "    center_of_mass_y = (y * image).sum() / total_mass\n",
    "\n",
    "    # Normalize the center of mass\n",
    "    normalized_center_of_mass_y = center_of_mass_y / 28\n",
    "\n",
    "    return normalized_center_of_mass_y\n",
    "\n",
    "def compute_normalized_central_mass(image):\n",
    "    # Reshape the image to 2D\n",
    "    image = image.reshape((28, 28))\n",
    "\n",
    "    # Compute the x and y coordinates of each pixel\n",
    "    y, x = np.indices((28, 28))\n",
    "\n",
    "    # Compute the total mass\n",
    "    total_mass = image.sum()\n",
    "\n",
    "    # Compute the center of mass\n",
    "    center_of_mass_x = (x * image).sum() / total_mass\n",
    "    center_of_mass_y = (y * image).sum() / total_mass\n",
    "\n",
    "    # Normalize the center of mass\n",
    "    normalized_center_of_mass_x = center_of_mass_x / 28\n",
    "    normalized_center_of_mass_y = center_of_mass_y / 28\n",
    "\n",
    "    return normalized_center_of_mass_x * normalized_center_of_mass_y\n",
    "\n",
    "from scipy import ndimage\n",
    "\n",
    "def compute_normalized_white_regions(image):\n",
    "    # Reshape the image to 2D\n",
    "    image = image.reshape((28, 28))\n",
    "\n",
    "    # Binarize the image\n",
    "    binary_image = (image > 0).astype(int)\n",
    "\n",
    "    # Label connected white regions\n",
    "    labeled_image, num_labels = ndimage.label(binary_image)\n",
    "\n",
    "    # Compute the normalized count of white regions\n",
    "    normalized_count = (num_labels - 1) / (28 * 28)\n",
    "\n",
    "    return normalized_count\n",
    "\n",
    "def compute_orientation(image):\n",
    "    # Reshape the image to 2D\n",
    "    image = image.reshape((28, 28))\n",
    "\n",
    "    # Compute the x and y coordinates of each pixel\n",
    "    y, x = np.indices((28, 28))\n",
    "    \n",
    "    # Compute the total mass\n",
    "    total_mass = image.sum()\n",
    "    \n",
    "    # Compute the center of mass\n",
    "    \n",
    "    center_of_mass_x = (x * image).sum() / total_mass\n",
    "    center_of_mass_y = (y * image).sum() / total_mass\n",
    "    \n",
    "    # Compute the moments of inertia\n",
    "    Ixx = (x - center_of_mass_x)**2 * image\n",
    "    Iyy = (y - center_of_mass_y)**2 * image\n",
    "    Ixy = (x - center_of_mass_x) * (y - center_of_mass_y) * image\n",
    "\n",
    "    # Compute the orientation\n",
    "    orientation = np.arctan(2 * Ixy / (Iyy - Ixx + 1e-8)) / 2\n",
    "\n",
    "    # Create single value\n",
    "    orientation = (orientation @ orientation.T).sum() / total_mass\n",
    "    \n",
    "    orientation = orientation / np.pi\n",
    "    \n",
    "    return orientation\n",
    "\n",
    "# Pretty good, acc: 0.3, combined: 0.376\n",
    "def compute_number_of_corners(image):\n",
    "    image = image.reshape((28, 28))\n",
    "    # Make image compatible with OpenCV\n",
    "    image = image.astype(np.uint8)\n",
    "    \n",
    "    corners = cv2.cornerHarris(image, 2, 3, 0.04)\n",
    "    num_corners = np.sum(corners > 0.01 * corners.max())\n",
    "    return num_corners\n",
    "\n",
    "from skimage.measure import label, regionprops\n",
    " \n",
    "# Best until now, acc: 0.267, combined: 0.391\n",
    "def compute_number_of_holes(image):\n",
    "    image = image.reshape((28, 28))\n",
    "    image = image > 0\n",
    "    image = ~image\n",
    "    labeled = label(image)\n",
    "    num_holes = labeled.max() - 1\n",
    "    return num_holes\n",
    "\n",
    "from skimage.morphology import convex_hull_image\n",
    "def compute_convexity(image):\n",
    "    image = image.reshape((28, 28))\n",
    "    image = image > 0\n",
    "    hull = convex_hull_image(image)\n",
    "    perimeter = np.sum(image[:, :-1] != image[:, 1:]) + np.sum(image[:-1, :] != image[1:, :])\n",
    "    hull_perimeter = np.sum(hull[:, :-1] != hull[:, 1:]) + np.sum(hull[:-1, :] != hull[1:, :])\n",
    "    convexity = perimeter / hull_perimeter\n",
    "    return convexity\n",
    "\n",
    "def compute_eccentricity(image):\n",
    "    image = image.reshape((28, 28))\n",
    "    image = image > 0\n",
    "    labeled = label(image)\n",
    "    props = regionprops(labeled)\n",
    "    eccentricity = props[0].eccentricity\n",
    "    return eccentricity\n",
    "\n",
    "logit_2 = LogisticRegression()\n",
    "new_feature = np.array([compute_number_of_holes(row) for row in digits])\n",
    "new_feature = scale(new_feature).reshape(-1, 1)\n",
    "logit_2.fit(new_feature, labels)\n",
    "print(logit_2.score(new_feature, labels))\n",
    "print('Covariance between ink and new_feature: ', np.cov(ink.flatten(), new_feature.flatten())[0, 1])\n",
    "results = logit_2.predict(new_feature)\n",
    "\n",
    "confusion_matrix = np.zeros((10, 10))\n",
    "for i in range(10):\n",
    "    confusion_matrix[i] = np.bincount(results[labels == i], minlength=10)\n",
    "confusion_matrix = confusion_matrix.astype(int)\n",
    "print(confusion_matrix)\n",
    "plt.imshow(confusion_matrix)\n",
    "plt.show()"
   ]
  },
  {
   "cell_type": "code",
   "execution_count": 10,
   "metadata": {},
   "outputs": [
    {
     "name": "stdout",
     "output_type": "stream",
     "text": [
      "0.39052380952380955\n"
     ]
    },
    {
     "data": {
      "image/png": "[encoded data removed]",
      "text/plain": [
       "<Figure size 640x480 with 1 Axes>"
      ]
     },
     "metadata": {},
     "output_type": "display_data"
    }
   ],
   "source": [
    "# Combine the two features\n",
    "from sklearn.preprocessing import scale\n",
    "logit_3 = LogisticRegression()\n",
    "new_feature = np.concatenate((ink, new_feature), axis=1)\n",
    "logit_3.fit(new_feature, labels)\n",
    "print(logit_3.score(new_feature, labels))\n",
    "results = logit_3.predict(new_feature)\n",
    "\n",
    "confusion_matrix = np.zeros((10, 10))\n",
    "for i in range(10):\n",
    "    confusion_matrix[i] = np.bincount(results[labels == i], minlength=10)\n",
    "confusion_matrix = confusion_matrix.astype(int)\n",
    "plt.imshow(confusion_matrix)\n",
    "plt.show()"
   ]
  },
  {
   "cell_type": "markdown",
   "metadata": {},
   "source": [
    "### Train test split"
   ]
  },
  {
   "cell_type": "code",
   "execution_count": 11,
   "metadata": {},
   "outputs": [],
   "source": [
    "# Combine labels and digits, so we can split randomly but keep the correct labels\n",
    "combined_data = np.concatenate((labels.reshape(-1, 1), digits), axis=1)\n",
    "np.random.shuffle(combined_data)\n",
    "labels = combined_data[:, 0]\n",
    "digits = combined_data[:, 1:]\n",
    "\n",
    "# Split the data into training and test set\n",
    "train_labels = labels[:5000]\n",
    "train_digits = digits[:5000]\n",
    "test_labels = labels[5000:]\n",
    "test_digits = digits[5000:]"
   ]
  },
  {
   "cell_type": "markdown",
   "metadata": {},
   "source": [
    "### Regularized multinomial logit"
   ]
  },
  {
   "cell_type": "code",
   "execution_count": 16,
   "metadata": {},
   "outputs": [
    {
     "name": "stdout",
     "output_type": "stream",
     "text": [
      "done fitting param:  0.0001  score:  0.8135135135135135\n"
     ]
    },
    {
     "name": "stderr",
     "output_type": "stream",
     "text": [
      "/opt/homebrew/lib/python3.11/site-packages/sklearn/linear_model/_sag.py:350: ConvergenceWarning: The max_iter was reached which means the coef_ did not converge\n",
      "  warnings.warn(\n"
     ]
    },
    {
     "name": "stdout",
     "output_type": "stream",
     "text": [
      "done fitting param:  0.0002782559402207126  score:  0.863\n"
     ]
    },
    {
     "name": "stderr",
     "output_type": "stream",
     "text": [
      "/opt/homebrew/lib/python3.11/site-packages/sklearn/linear_model/_sag.py:350: ConvergenceWarning: The max_iter was reached which means the coef_ did not converge\n",
      "  warnings.warn(\n"
     ]
    },
    {
     "name": "stdout",
     "output_type": "stream",
     "text": [
      "done fitting param:  0.000774263682681127  score:  0.8873783783783784\n"
     ]
    },
    {
     "name": "stderr",
     "output_type": "stream",
     "text": [
      "/opt/homebrew/lib/python3.11/site-packages/sklearn/linear_model/_sag.py:350: ConvergenceWarning: The max_iter was reached which means the coef_ did not converge\n",
      "  warnings.warn(\n"
     ]
    },
    {
     "name": "stdout",
     "output_type": "stream",
     "text": [
      "done fitting param:  0.002154434690031882  score:  0.8965675675675676\n"
     ]
    },
    {
     "name": "stderr",
     "output_type": "stream",
     "text": [
      "/opt/homebrew/lib/python3.11/site-packages/sklearn/linear_model/_sag.py:350: ConvergenceWarning: The max_iter was reached which means the coef_ did not converge\n",
      "  warnings.warn(\n"
     ]
    },
    {
     "name": "stdout",
     "output_type": "stream",
     "text": [
      "done fitting param:  0.0001  score:  0.8135135135135135\n"
     ]
    },
    {
     "name": "stderr",
     "output_type": "stream",
     "text": [
      "/opt/homebrew/lib/python3.11/site-packages/sklearn/linear_model/_sag.py:350: ConvergenceWarning: The max_iter was reached which means the coef_ did not converge\n",
      "  warnings.warn(\n"
     ]
    },
    {
     "name": "stdout",
     "output_type": "stream",
     "text": [
      "done fitting param:  0.0002782559402207126  score:  0.8630540540540541\n"
     ]
    },
    {
     "name": "stderr",
     "output_type": "stream",
     "text": [
      "/opt/homebrew/lib/python3.11/site-packages/sklearn/linear_model/_sag.py:350: ConvergenceWarning: The max_iter was reached which means the coef_ did not converge\n",
      "  warnings.warn(\n"
     ]
    },
    {
     "name": "stdout",
     "output_type": "stream",
     "text": [
      "done fitting param:  0.000774263682681127  score:  0.8874594594594595\n"
     ]
    },
    {
     "name": "stderr",
     "output_type": "stream",
     "text": [
      "/opt/homebrew/lib/python3.11/site-packages/sklearn/linear_model/_sag.py:350: ConvergenceWarning: The max_iter was reached which means the coef_ did not converge\n",
      "  warnings.warn(\n"
     ]
    },
    {
     "name": "stdout",
     "output_type": "stream",
     "text": [
      "done fitting param:  0.002154434690031882  score:  0.8965405405405406\n"
     ]
    },
    {
     "name": "stderr",
     "output_type": "stream",
     "text": [
      "/opt/homebrew/lib/python3.11/site-packages/sklearn/linear_model/_sag.py:350: ConvergenceWarning: The max_iter was reached which means the coef_ did not converge\n",
      "  warnings.warn(\n"
     ]
    },
    {
     "name": "stdout",
     "output_type": "stream",
     "text": [
      "done fitting param:  0.005994842503189409  score:  0.8948918918918919\n"
     ]
    },
    {
     "name": "stderr",
     "output_type": "stream",
     "text": [
      "/opt/homebrew/lib/python3.11/site-packages/sklearn/linear_model/_sag.py:350: ConvergenceWarning: The max_iter was reached which means the coef_ did not converge\n",
      "  warnings.warn(\n"
     ]
    },
    {
     "name": "stdout",
     "output_type": "stream",
     "text": [
      "done fitting param:  0.12915496650148828  score:  0.8824594594594595\n"
     ]
    },
    {
     "name": "stderr",
     "output_type": "stream",
     "text": [
      "/opt/homebrew/lib/python3.11/site-packages/sklearn/linear_model/_sag.py:350: ConvergenceWarning: The max_iter was reached which means the coef_ did not converge\n",
      "  warnings.warn(\n"
     ]
    },
    {
     "name": "stdout",
     "output_type": "stream",
     "text": [
      "done fitting param:  0.046415888336127774  score:  0.8834864864864865\n"
     ]
    },
    {
     "name": "stderr",
     "output_type": "stream",
     "text": [
      "/opt/homebrew/lib/python3.11/site-packages/sklearn/linear_model/_sag.py:350: ConvergenceWarning: The max_iter was reached which means the coef_ did not converge\n",
      "  warnings.warn(\n"
     ]
    },
    {
     "name": "stdout",
     "output_type": "stream",
     "text": [
      "done fitting param:  0.016681005372000592  score:  0.8874594594594595\n"
     ]
    },
    {
     "name": "stderr",
     "output_type": "stream",
     "text": [
      "/opt/homebrew/lib/python3.11/site-packages/sklearn/linear_model/_sag.py:350: ConvergenceWarning: The max_iter was reached which means the coef_ did not converge\n",
      "  warnings.warn(\n"
     ]
    },
    {
     "name": "stdout",
     "output_type": "stream",
     "text": [
      "done fitting param:  1.0  score:  0.882054054054054\n"
     ]
    },
    {
     "name": "stderr",
     "output_type": "stream",
     "text": [
      "/opt/homebrew/lib/python3.11/site-packages/sklearn/linear_model/_sag.py:350: ConvergenceWarning: The max_iter was reached which means the coef_ did not converge\n",
      "  warnings.warn(\n"
     ]
    },
    {
     "name": "stdout",
     "output_type": "stream",
     "text": [
      "done fitting param:  0.3593813663804626  score:  0.8823243243243243\n"
     ]
    },
    {
     "data": {
      "image/png": "[encoded data removed]",
      "text/plain": [
       "<Figure size 640x480 with 1 Axes>"
      ]
     },
     "metadata": {},
     "output_type": "display_data"
    }
   ],
   "source": [
    "# Fit multinomial logit with LASSO regularization\n",
    "from multiprocessing.pool import ThreadPool\n",
    "from sklearn.linear_model import LogisticRegression\n",
    "from sklearn.preprocessing import scale\n",
    "import multiprocessing as mp\n",
    "\n",
    "# Params from 0.0001 to 1\n",
    "params = np.logspace(-4, 0, 10)\n",
    "scores = []\n",
    "\n",
    "# Perform grid search\n",
    "with ThreadPool() as pool:\n",
    "    def fit_logit(param):\n",
    "        logit = LogisticRegression(C=param, penalty='l1', solver='saga', multi_class='multinomial', max_iter=300)\n",
    "        logit.fit(train_digits, train_labels)\n",
    "        score = logit.score(test_digits, test_labels)\n",
    "        print(\"done fitting param: \", param, \" score: \", score)\n",
    "        return score\n",
    "    \n",
    "    scores = pool.map(fit_logit, params)\n",
    "    \n",
    "\n",
    "plt.plot(params, scores)\n",
    "plt.xscale('log')\n",
    "plt.show()"
   ]
  },
  {
   "cell_type": "markdown",
   "metadata": {},
   "source": [
    "### SVM"
   ]
  },
  {
   "cell_type": "code",
   "execution_count": 18,
   "metadata": {},
   "outputs": [
    {
     "name": "stdout",
     "output_type": "stream",
     "text": [
      "{'C': 1.0, 'degree': 2, 'kernel': 'poly'}\n",
      "0.9228000000000002\n",
      "0.9325405405405406\n"
     ]
    },
    {
     "data": {
      "image/png": "[encoded data removed]",
      "text/plain": [
       "<Figure size 640x480 with 1 Axes>"
      ]
     },
     "metadata": {},
     "output_type": "display_data"
    }
   ],
   "source": [
    "# Support vector machine\n",
    "from sklearn.svm import SVC\n",
    "\n",
    "# Best params: {'C': 1.0, 'degree': 2, 'kernel': 'poly'}\n",
    "param_space = {\n",
    "    'C': np.logspace(-4, 0, 10),\n",
    "    'kernel': ['linear', 'rbf', 'poly'],\n",
    "    'degree': [2, 3, 4],\n",
    "}\n",
    "\n",
    "# Grid search\n",
    "from sklearn.model_selection import GridSearchCV\n",
    "from sklearn.metrics import accuracy_score\n",
    "from sklearn.preprocessing import scale\n",
    "\n",
    "# Fit the model\n",
    "clf = GridSearchCV(SVC(), param_space, cv=5, n_jobs=-1, verbose=2)\n",
    "clf.fit(scale(train_digits), train_labels)\n",
    "print(clf.best_params_)\n",
    "print(clf.best_score_)\n",
    "print(accuracy_score(clf.predict(scale(test_digits)), test_labels))"
   ]
  }
 ],
 "metadata": {
  "kernelspec": {
   "display_name": "Python 3",
   "language": "python",
   "name": "python3"
  },
  "language_info": {
   "codemirror_mode": {
    "name": "ipython",
    "version": 3
   },
   "file_extension": ".py",
   "mimetype": "text/x-python",
   "name": "python",
   "nbconvert_exporter": "python",
   "pygments_lexer": "ipython3",
   "version": "3.11.5"
  }
 },
 "nbformat": 4,
 "nbformat_minor": 2
}
